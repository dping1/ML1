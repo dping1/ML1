{
 "cells": [
  {
   "cell_type": "code",
   "execution_count": 1,
   "metadata": {},
   "outputs": [
    {
     "name": "stderr",
     "output_type": "stream",
     "text": [
      "Using TensorFlow backend.\n"
     ]
    }
   ],
   "source": [
    "import mxnet as mx\n",
    "import numpy as np\n",
    "from keras.datasets import imdb\n",
    "from keras.preprocessing.text import Tokenizer"
   ]
  },
  {
   "cell_type": "code",
   "execution_count": 10,
   "metadata": {},
   "outputs": [],
   "source": [
    "# load the save model\n",
    "prefix = 'sentiment_mlp_'\n",
    "model = mx.mod.Module.load(prefix, 10, False)\n",
    "\n",
    "model.bind(for_training=False, data_shapes=[('data', (1,500))])"
   ]
  },
  {
   "cell_type": "code",
   "execution_count": 32,
   "metadata": {},
   "outputs": [],
   "source": [
    "# prepare the input\n",
    "# Tokenize the text and encode with IMDB dictionary\n",
    "sentence = ['this is terrible ']\n",
    "#sentence = ['The beginning was ok.  But I like the ending, What a turn']\n",
    "\n",
    "#tokenize and encode the sentence to numpy array\n",
    "tokens = Tokenizer()\n",
    "tokens.fit_on_texts(sentence)\n",
    "\n",
    "nd = np.zeros((1, 500))\n",
    "\n",
    "imdb_word_index = imdb.get_word_index(path='imdb_word_index.json')\n",
    "\n",
    "# replace the indexes with index from the imdb dataset\n",
    "i = 500 - len(tokens.word_index)\n",
    "for word in tokens.word_index:\n",
    "        nd[0,i] = imdb_word_index[word]\n",
    "        i = i+1\n",
    "       \n",
    "sentence_Iter = mx.io.NDArrayIter(nd, batch_size=1)"
   ]
  },
  {
   "cell_type": "code",
   "execution_count": 33,
   "metadata": {},
   "outputs": [
    {
     "name": "stdout",
     "output_type": "stream",
     "text": [
      "[[ 0.30338338  0.69661659]]\n"
     ]
    }
   ],
   "source": [
    "prediction = model.predict(sentence_Iter)\n",
    "\n",
    "print (prediction.asnumpy()[0:1])"
   ]
  },
  {
   "cell_type": "code",
   "execution_count": null,
   "metadata": {
    "collapsed": true
   },
   "outputs": [],
   "source": []
  }
 ],
 "metadata": {
  "kernelspec": {
   "display_name": "Python 2",
   "language": "python",
   "name": "python2"
  },
  "language_info": {
   "codemirror_mode": {
    "name": "ipython",
    "version": 2
   },
   "file_extension": ".py",
   "mimetype": "text/x-python",
   "name": "python",
   "nbconvert_exporter": "python",
   "pygments_lexer": "ipython2",
   "version": "2.7.6"
  }
 },
 "nbformat": 4,
 "nbformat_minor": 2
}
